{
 "cells": [
  {
   "cell_type": "code",
   "execution_count": 2,
   "metadata": {},
   "outputs": [],
   "source": [
    "import os\n",
    "import tensorflow as tf\n",
    "from tensorflow.keras.preprocessing.image import ImageDataGenerator, load_img, img_to_array\n",
    "#from tensorflow.keras.preprocessing.image import \n",
    "from threading import Thread\n",
    "from PIL import Image\n",
    "import numpy as np\n",
    "import glob"
   ]
  },
  {
   "cell_type": "markdown",
   "metadata": {},
   "source": [
    "**Definição da classe pra gerar imagens com ImageDataGenerator**"
   ]
  },
  {
   "cell_type": "code",
   "execution_count": 3,
   "metadata": {
    "id": "2T2YTDxr2nWQ"
   },
   "outputs": [],
   "source": [
    "#Esta implementação gera novas imagens a partir das originais.\n",
    "class GenerateImage(Thread):\n",
    "    \n",
    "    def __init__ (self, path, to, qtd):\n",
    "        Thread.__init__(self)\n",
    "        self.path = path\n",
    "        self.to = to\n",
    "        self.qtd = qtd\n",
    "        \n",
    "    def run(self):\n",
    "        self.generate()\n",
    "        \n",
    "    def create_path(self,uri):\n",
    "        if not os.path.isdir(uri):\n",
    "            uri_ = os.path.split(uri)[0]\n",
    "            self.create_path(uri_)\n",
    "\n",
    "            os.mkdir(uri)\n",
    "            \n",
    "    def generate(self):\n",
    "        \n",
    "        self.create_path(self.to)\n",
    "        \n",
    "        names_images = os.listdir(self.path)\n",
    "\n",
    "        datagenerator = ImageDataGenerator(\n",
    "            rotation_range = 90,\n",
    "            #width_shift_range=0.1,\n",
    "            #height_shift_range=0.1,\n",
    "            #rescale=1./255,\n",
    "            shear_range=0.2,\n",
    "            zoom_range=0.23,\n",
    "            #horizontal_flip=True,\\\n",
    "            #vertical_flip=True,\n",
    "            fill_mode='nearest'\n",
    "        )\n",
    "\n",
    "        for name_image in names_images:\n",
    "            \n",
    "            if not os.path.isfile(self.path+\"/\"+name_image):\n",
    "                continue\n",
    "\n",
    "            image = load_img(self.path+\"/\"+name_image)\n",
    "            image_array = img_to_array(image)\n",
    "            image_array = image_array.reshape((1,)+image_array.shape) #Reshape the image\n",
    "\n",
    "            i = 0\n",
    "            for batch in datagenerator.flow(image_array, batch_size=1, save_to_dir=self.to, save_prefix=\"g\", save_format='jpg'):\n",
    "              \n",
    "              i = i+1\n",
    "              if (i >= self.qtd):\n",
    "                break\n"
   ]
  },
  {
   "cell_type": "markdown",
   "metadata": {},
   "source": [
    "**redimensionar as imagens para Uma resolução desejada**"
   ]
  },
  {
   "cell_type": "code",
   "execution_count": 24,
   "metadata": {},
   "outputs": [],
   "source": [
    "#redimensiona cada imagem da path para o tamanho correspondente\n",
    "class CropScalingImage(Thread):\n",
    "    \n",
    "    def __init__ (self, path, to_path, r, with_crop, with_resize):\n",
    "        Thread.__init__(self)\n",
    "        self.path = path\n",
    "        self.to_path = to_path\n",
    "        self.r = r\n",
    "        self.with_crop = with_crop\n",
    "        self.with_resize = with_resize\n",
    "        \n",
    "    def run(self):\n",
    "        self.scaling()\n",
    "        \n",
    "    def scaling(self):\n",
    "        \n",
    "        if not os.path.isdir(self.to_path):\n",
    "            os.makedirs(self.to_path)\n",
    "        \n",
    "        for name in os.listdir(self.path):\n",
    "            \n",
    "            img = Image.open(self.path+\"/\"+name)\n",
    "            img = img.convert('RGB')\n",
    "            #crop image\n",
    "            \n",
    "            w = img.size[0]\n",
    "            h = img.size[1]\n",
    "            \n",
    "            if self.with_crop:\n",
    "                if w > h:\n",
    "                    dw = (w-h)/2.0\n",
    "                    img = img.crop((dw,0,w-dw,h))\n",
    "                elif h > w:\n",
    "                    dh = (h-w)/2.0\n",
    "                    img = img.crop((0,dh,w,h-dh))\n",
    "                else:\n",
    "                    dw = (w-self.r)/2.0\n",
    "                    dh = (h-self.r)/2.0\n",
    "                    \n",
    "                    rr = (dw,dh,self.r+dw,self.r+dh)\n",
    "                    img = img.crop(rr)\n",
    "            \n",
    "            if self.with_resize:\n",
    "                #scale image\n",
    "                if w > h:\n",
    "                    img = img.resize((self.r,self.r), Image.ANTIALIAS)\n",
    "                else:\n",
    "                    img = img.resize((self.r,self.r), Image.ANTIALIAS)\n",
    "                    \n",
    "            final_file = self.to_path+\"/\"+name\n",
    "            if os.path.isfile(final_file):\n",
    "                os.remove(final_file)\n",
    "            img.save(final_file)\n",
    "            "
   ]
  },
  {
   "cell_type": "markdown",
   "metadata": {},
   "source": [
    "# Executar"
   ]
  },
  {
   "cell_type": "code",
   "execution_count": 5,
   "metadata": {},
   "outputs": [],
   "source": [
    "uri_path = \"thyroid_classifier/dataset/\""
   ]
  },
  {
   "cell_type": "markdown",
   "metadata": {},
   "source": [
    "**Recorte e redimensionamento**"
   ]
  },
  {
   "cell_type": "code",
   "execution_count": 20,
   "metadata": {},
   "outputs": [],
   "source": [
    "def crop(uri_path):\n",
    "    #recortar apenas um lado.\n",
    "    for sub in os.listdir(uri_path):\n",
    "\n",
    "        for sub_sub in os.listdir(uri_path+\"/\"+sub):\n",
    "\n",
    "            crop_and_rescaling = CropScalingImage(path=uri_path+\"/\"+sub+\"/\"+sub_sub, \n",
    "                                                to_path=uri_path+\"/\"+sub+\"/\"+sub_sub,\n",
    "                                                r=600,\n",
    "                                                with_crop=True,\n",
    "                                                with_resize=True)\n",
    "            crop_and_rescaling.scaling()"
   ]
  },
  {
   "cell_type": "markdown",
   "metadata": {},
   "source": [
    "**Converter imagens png para jpg**"
   ]
  },
  {
   "cell_type": "code",
   "execution_count": 21,
   "metadata": {},
   "outputs": [],
   "source": [
    "def png_to_jpg(image_uri):\n",
    "        png = Image.open(image_uri)\n",
    "        png.load() # required for png.split()\n",
    "\n",
    "        background = Image.new(\"RGB\", png.size, (255, 255, 255))\n",
    "        background.paste(png, mask=png.split()[3]) # 3 is the alpha channel\n",
    "\n",
    "        base = os.path.split(image_uri)\n",
    "        name = base[1].replace(\".png\",\".jpg\")\n",
    "\n",
    "        background.save(base[0]+\"/\"+name, 'JPEG', quality=100)\n",
    "\n",
    "        os.remove(image_uri)"
   ]
  },
  {
   "cell_type": "code",
   "execution_count": 24,
   "metadata": {},
   "outputs": [],
   "source": [
    "for p in os.listdir(uri_to_path):\n",
    "    for image in glob.glob(uri_to_path+\"/\"+p+\"/*.png\"):\n",
    "        png_to_jpg(image)"
   ]
  },
  {
   "attachments": {},
   "cell_type": "markdown",
   "metadata": {},
   "source": [
    "### Slip images"
   ]
  },
  {
   "cell_type": "code",
   "execution_count": 14,
   "metadata": {},
   "outputs": [],
   "source": [
    "def position(i, minQtd, len):\n",
    "    return int( (len-1) * i / minQtd)\n",
    "\n",
    "def split_images(path, to, type=\".jpeg\"):\n",
    "\n",
    "    qtds = []\n",
    "\n",
    "    classes_paths = os.listdir(path)\n",
    "    files_classes = {}\n",
    "\n",
    "    for class_folder in classes_paths:\n",
    "        \n",
    "        files_class = glob.glob(f\"{path}/{class_folder}/*{type}\")\n",
    "        files_classes[class_folder] = files_class\n",
    "        qtds.append(len(files_class))\n",
    "\n",
    "    qtd = np.min(qtds)\n",
    "\n",
    "    indices = np.arange(0, qtd)\n",
    "    np.random.shuffle(indices)\n",
    "    np.random.shuffle(indices)\n",
    "    np.random.shuffle(indices)\n",
    "\n",
    "    for class_folder in files_classes.keys():\n",
    "        \n",
    "        files_class = files_classes[class_folder]\n",
    "\n",
    "        for i in indices[0:int(0.7*len(indices))-1]:\n",
    "            p = position(i, qtd, len(files_class))\n",
    "\n",
    "            file_name = os.path.split(files_class[p])[1]\n",
    "\n",
    "            try:\n",
    "                os.rename(f\"{path}/{class_folder}/{file_name}\",f\"{to}/train/{class_folder}/{file_name}\")\n",
    "            except:\n",
    "                print(file_name)\n",
    "\n",
    "    for class_folder in files_classes.keys():\n",
    "        files_class = files_classes[class_folder]\n",
    "        for i in indices[int(0.7*len(indices)):]:\n",
    "            p = position(i, qtd, len(files_class))\n",
    "            file_name = os.path.split(files_class[p])[1]\n",
    "            \n",
    "            try:\n",
    "                os.rename(f\"{path}/{class_folder}/{file_name}\",f\"{to}/validation/{class_folder}/{file_name}\")\n",
    "            except:\n",
    "                print(file_name)"
   ]
  },
  {
   "cell_type": "code",
   "execution_count": 15,
   "metadata": {},
   "outputs": [
    {
     "name": "stdout",
     "output_type": "stream",
     "text": [
      "17_120_155.jpeg\n"
     ]
    }
   ],
   "source": [
    "split_images(\"thyroid_classifier/dataset\", \"thyroid_classifier/dataset_splitted/\", type=\".jpeg\")"
   ]
  },
  {
   "cell_type": "code",
   "execution_count": 26,
   "metadata": {},
   "outputs": [
    {
     "name": "stderr",
     "output_type": "stream",
     "text": [
      "C:\\Users\\Joelp\\AppData\\Local\\Temp\\ipykernel_4596\\2606349452.py:46: DeprecationWarning: ANTIALIAS is deprecated and will be removed in Pillow 10 (2023-07-01). Use LANCZOS or Resampling.LANCZOS instead.\n",
      "  img = img.resize((self.r,self.r), Image.ANTIALIAS)\n"
     ]
    }
   ],
   "source": [
    "crop(\"thyroid_classifier/dataset_splitted\")"
   ]
  },
  {
   "cell_type": "markdown",
   "metadata": {},
   "source": [
    "**Gerar imagens**"
   ]
  },
  {
   "cell_type": "code",
   "execution_count": 27,
   "metadata": {},
   "outputs": [],
   "source": [
    "def generate(path, to_path):\n",
    "    for sub in os.listdir(path):\n",
    "        g = GenerateImage(path+\"/\"+sub, to_path+\"/\"+sub,16)\n",
    "        g.generate()"
   ]
  },
  {
   "cell_type": "code",
   "execution_count": null,
   "metadata": {},
   "outputs": [],
   "source": [
    "generate(\"thyroid_classifier/dataset_splitted/train\", \"thyroid_classifier/generated/train\")\n",
    "generate(\"thyroid_classifier/dataset_splitted/validation\", \"thyroid_classifier/generated/validation\")"
   ]
  },
  {
   "cell_type": "markdown",
   "metadata": {},
   "source": [
    "______________________________________________________________"
   ]
  },
  {
   "cell_type": "markdown",
   "metadata": {},
   "source": [
    "**Apagar imagens em excesso**"
   ]
  },
  {
   "cell_type": "code",
   "execution_count": null,
   "metadata": {},
   "outputs": [],
   "source": [
    "classes = os.listdir(uri_)\n",
    "\n",
    "for classe in classes:\n",
    "    q = len(os.listdir(\"C:/Users/Joelp/OneDrive/Imagens/sementes/preparadas/21-04-2021/gerada/\"+classe))\n",
    "    qtd = qtd+q\n",
    "    print(q)\n",
    "    \n",
    "print(\"Quantidade total:\")\n",
    "print(qtd)"
   ]
  },
  {
   "cell_type": "code",
   "execution_count": null,
   "metadata": {
    "scrolled": true
   },
   "outputs": [],
   "source": [
    "#\n",
    "i = 1\n",
    "images = os.listdir(\"imagens/sementes/deep_learning/milho\")\n",
    "for image in images:\n",
    "    os.remove(\"imagens/sementes/deep_learning/milho/\"+image)\n",
    "    print(\".\", end=\"\")\n",
    "    if i == 1316:\n",
    "        break\n",
    "    i = i+1"
   ]
  },
  {
   "cell_type": "markdown",
   "metadata": {},
   "source": [
    "**Converter imagens png para jpeg**"
   ]
  },
  {
   "cell_type": "code",
   "execution_count": null,
   "metadata": {},
   "outputs": [],
   "source": [
    "list_classes = os.listdir(uri_path)\n",
    "\n",
    "for classe in list_classes:\n",
    "    images = os.listdir(\"sementes/deep_learning/\"+classe)\n",
    "    print(classe)\n",
    "    for image in images:\n",
    "        im = Image.open(\"sementes/deep_learning/\"+classe+\"/\"+image)\n",
    "        rgb_im = im.convert('RGB')\n",
    "        rgb_im.save(\"sementes/deep_learning/\"+classe+\"/\"+image)\n",
    "        print(\".\", end=\"\")"
   ]
  },
  {
   "cell_type": "markdown",
   "metadata": {},
   "source": [
    "**Renomear as imagens**"
   ]
  },
  {
   "cell_type": "code",
   "execution_count": null,
   "metadata": {},
   "outputs": [],
   "source": [
    "list_classes = os.listdir(uri_to_path)\n",
    "for classe in list_classes:\n",
    "    list_sementes = os.listdir(uri_to_path+\"/\"+classe)\n",
    "    i = 0\n",
    "    print(\"\\n\"+classe)\n",
    "    for name in list_sementes:\n",
    "        \n",
    "        os.rename(uri_to_path+\"/\"+classe+\"/\"+name,uri_to_path+\"/\"+classe+\"/\"+classe+\"_\"+str(i)+\".jpeg\")\n",
    "        i = i+1\n",
    "        print(\".\",end=\"\")"
   ]
  }
 ],
 "metadata": {
  "colab": {
   "collapsed_sections": [],
   "name": "GeraImagens.ipynb",
   "provenance": []
  },
  "kernelspec": {
   "display_name": "Python 3.7.0 64-bit (system)",
   "language": "python",
   "name": "python3"
  },
  "language_info": {
   "codemirror_mode": {
    "name": "ipython",
    "version": 3
   },
   "file_extension": ".py",
   "mimetype": "text/x-python",
   "name": "python",
   "nbconvert_exporter": "python",
   "pygments_lexer": "ipython3",
   "version": "3.10.11"
  },
  "vscode": {
   "interpreter": {
    "hash": "1f2ac25b4a6d870602abfa5d74e7d6f1ae274ba9e86645830384575c0e5c89f3"
   }
  }
 },
 "nbformat": 4,
 "nbformat_minor": 1
}
