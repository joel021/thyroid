{
 "cells": [
  {
   "cell_type": "code",
   "execution_count": 16,
   "metadata": {},
   "outputs": [],
   "source": [
    "import os\n",
    "from tensorflow.keras.preprocessing.image import ImageDataGenerator, load_img, img_to_array\n",
    "from threading import Thread\n",
    "from PIL import Image\n",
    "import numpy as np\n",
    "import glob"
   ]
  },
  {
   "cell_type": "markdown",
   "metadata": {},
   "source": [
    "**Definição da classe pra gerar imagens com ImageDataGenerator**"
   ]
  },
  {
   "cell_type": "code",
   "execution_count": 23,
   "metadata": {
    "id": "2T2YTDxr2nWQ"
   },
   "outputs": [],
   "source": [
    "#Esta implementação gera novas imagens a partir das originais.\n",
    "class GenerateImage(Thread):\n",
    "    \n",
    "    def __init__ (self, path, to, qtd):\n",
    "        Thread.__init__(self)\n",
    "        self.path = path\n",
    "        self.to = to\n",
    "        self.qtd = qtd\n",
    "        \n",
    "    def run(self):\n",
    "        self.generate()\n",
    "        \n",
    "    def create_path(self,uri):\n",
    "        if not os.path.isdir(uri):\n",
    "            uri_ = os.path.split(uri)[0]\n",
    "            self.create_path(uri_)\n",
    "\n",
    "            os.mkdir(uri)\n",
    "            \n",
    "    def generate(self):\n",
    "        \n",
    "        self.create_path(self.to)\n",
    "        \n",
    "        names_images = os.listdir(self.path)\n",
    "\n",
    "        datagenerator = ImageDataGenerator(\n",
    "            rotation_range = 90,\n",
    "            #width_shift_range=0.1,\n",
    "            #height_shift_range=0.1,\n",
    "            #rescale=1./255,\n",
    "            shear_range=0.2,\n",
    "            zoom_range=0.23,\n",
    "            horizontal_flip=True,\\\n",
    "            vertical_flip=True,\n",
    "            fill_mode='nearest'\n",
    "        )\n",
    "\n",
    "        for name_image in names_images:\n",
    "            \n",
    "            if not os.path.isfile(self.path+\"/\"+name_image):\n",
    "                continue\n",
    "\n",
    "            image = load_img(self.path+\"/\"+name_image)\n",
    "            image_array = img_to_array(image)\n",
    "            image_array = image_array.reshape((1,)+image_array.shape) #Reshape the image\n",
    "\n",
    "            i = 0\n",
    "            for batch in datagenerator.flow(image_array, batch_size=1, save_to_dir=self.to, save_prefix=\"g\", save_format='jpg'):\n",
    "              \n",
    "              i = i+1\n",
    "              if (i >= self.qtd):\n",
    "                break\n"
   ]
  },
  {
   "cell_type": "markdown",
   "metadata": {},
   "source": [
    "**redimensionar as imagens para Uma resolução desejada**"
   ]
  },
  {
   "cell_type": "code",
   "execution_count": 18,
   "metadata": {},
   "outputs": [],
   "source": [
    "#redimensiona cada imagem da path para o tamanho correspondente\n",
    "class CropScalingImage(Thread):\n",
    "    \n",
    "    def __init__ (self, path, to_path, r, with_crop, with_resize):\n",
    "        Thread.__init__(self)\n",
    "        self.path = path\n",
    "        self.to_path = to_path\n",
    "        self.r = r\n",
    "        self.with_crop = with_crop\n",
    "        self.with_resize = with_resize\n",
    "        \n",
    "    def run(self):\n",
    "        self.scaling()\n",
    "        \n",
    "    def create_path(self,uri):\n",
    "        if not os.path.isdir(uri):\n",
    "            uri_ = os.path.split(uri)[0]\n",
    "            self.create_path(uri_)\n",
    "\n",
    "            os.mkdir(uri)\n",
    "        \n",
    "    def scaling(self):\n",
    "        \n",
    "        self.create_path(self.to_path)\n",
    "        \n",
    "        for name in os.listdir(self.path):\n",
    "            \n",
    "            img = Image.open(self.path+\"/\"+name)\n",
    "            img = img.convert('RGB')\n",
    "            #crop image\n",
    "            \n",
    "            w = img.size[0]\n",
    "            h = img.size[1]\n",
    "            \n",
    "            if self.with_crop:\n",
    "                if w > h:\n",
    "                    dw = (w-h)/2.0\n",
    "                    img = img.crop((dw,0,w-dw,h))\n",
    "                elif h > w:\n",
    "                    dh = (h-w)/2.0\n",
    "                    img = img.crop((0,dh,w,h-dh))\n",
    "                else:\n",
    "                    dw = (w-self.r)/2.0\n",
    "                    dh = (h-self.r)/2.0\n",
    "                    \n",
    "                    rr = (dw,dh,self.r+dw,self.r+dh)\n",
    "                    img = img.crop(rr)\n",
    "            \n",
    "            if self.with_resize:\n",
    "                #scale image\n",
    "                if w > h:\n",
    "                    img = img.resize((self.r,self.r), Image.ANTIALIAS)\n",
    "                else:\n",
    "                    img = img.resize((self.r,self.r), Image.ANTIALIAS)\n",
    "                    \n",
    "            if not os.path.isdir(self.to_path):\n",
    "                os.mkdir(self.to_path)\n",
    "                \n",
    "            img.save(self.to_path+\"/\"+name)\n",
    "            "
   ]
  },
  {
   "cell_type": "markdown",
   "metadata": {},
   "source": [
    "# Executar"
   ]
  },
  {
   "cell_type": "code",
   "execution_count": 19,
   "metadata": {},
   "outputs": [],
   "source": [
    "uri_path = \"C:/Users/JPIRES16/Documents/ThyroidData/cell_content_classifier/cell_non_224\""
   ]
  },
  {
   "cell_type": "markdown",
   "metadata": {},
   "source": [
    "**Recorte e redimensionamento**"
   ]
  },
  {
   "cell_type": "code",
   "execution_count": 20,
   "metadata": {},
   "outputs": [],
   "source": [
    "#recortar apenas um lado.\n",
    "for sub in os.listdir(uri_path):\n",
    "\n",
    "    for sub_sub in os.listdir(uri_path+\"/\"+sub):\n",
    "\n",
    "        crop_and_rescaling = CropScalingImage(path=uri_path+\"/\"+sub+\"/\"+sub_sub, \n",
    "                                            to_path=uri_path+\"/\"+sub+\"/\"+sub_sub,\n",
    "                                            r=224,\n",
    "                                            with_crop=False,\n",
    "                                            with_resize=True)\n",
    "        crop_and_rescaling.scaling()"
   ]
  },
  {
   "cell_type": "markdown",
   "metadata": {},
   "source": [
    "**Converter imagens png para jpg**"
   ]
  },
  {
   "cell_type": "code",
   "execution_count": 21,
   "metadata": {},
   "outputs": [],
   "source": [
    "def png_to_jpg(image_uri):\n",
    "        png = Image.open(image_uri)\n",
    "        png.load() # required for png.split()\n",
    "\n",
    "        background = Image.new(\"RGB\", png.size, (255, 255, 255))\n",
    "        background.paste(png, mask=png.split()[3]) # 3 is the alpha channel\n",
    "\n",
    "        base = os.path.split(image_uri)\n",
    "        name = base[1].replace(\".png\",\".jpg\")\n",
    "\n",
    "        background.save(base[0]+\"/\"+name, 'JPEG', quality=100)\n",
    "\n",
    "        os.remove(image_uri)"
   ]
  },
  {
   "cell_type": "code",
   "execution_count": 24,
   "metadata": {},
   "outputs": [],
   "source": [
    "for p in os.listdir(uri_to_path):\n",
    "    for image in glob.glob(uri_to_path+\"/\"+p+\"/*.png\"):\n",
    "        png_to_jpg(image)"
   ]
  },
  {
   "cell_type": "markdown",
   "metadata": {},
   "source": [
    "**Gerar imagens**"
   ]
  },
  {
   "cell_type": "code",
   "execution_count": 24,
   "metadata": {},
   "outputs": [],
   "source": [
    "uri_path = \"C:/Users/JPIRES16/Documents/ThyroidData/cell_content_classifier/non_cell_p\"\n",
    "uri_to_path = \"C:/Users/JPIRES16/Documents/ThyroidData/cell_content_classifier/non_cell_p_g\"\n",
    "\n",
    "g = GenerateImage(uri_path, uri_to_path,16)\n",
    "g.generate()"
   ]
  },
  {
   "cell_type": "markdown",
   "metadata": {},
   "source": [
    "______________________________________________________________"
   ]
  },
  {
   "cell_type": "markdown",
   "metadata": {},
   "source": [
    "**Apagar imagens em excesso**"
   ]
  },
  {
   "cell_type": "code",
   "execution_count": null,
   "metadata": {},
   "outputs": [],
   "source": [
    "classes = os.listdir(uri_)\n",
    "\n",
    "for classe in classes:\n",
    "    q = len(os.listdir(\"C:/Users/Joelp/OneDrive/Imagens/sementes/preparadas/21-04-2021/gerada/\"+classe))\n",
    "    qtd = qtd+q\n",
    "    print(q)\n",
    "    \n",
    "print(\"Quantidade total:\")\n",
    "print(qtd)"
   ]
  },
  {
   "cell_type": "code",
   "execution_count": null,
   "metadata": {
    "scrolled": true
   },
   "outputs": [],
   "source": [
    "#\n",
    "i = 1\n",
    "images = os.listdir(\"imagens/sementes/deep_learning/milho\")\n",
    "for image in images:\n",
    "    os.remove(\"imagens/sementes/deep_learning/milho/\"+image)\n",
    "    print(\".\", end=\"\")\n",
    "    if i == 1316:\n",
    "        break\n",
    "    i = i+1"
   ]
  },
  {
   "cell_type": "markdown",
   "metadata": {},
   "source": [
    "**Converter imagens png para jpeg**"
   ]
  },
  {
   "cell_type": "code",
   "execution_count": null,
   "metadata": {},
   "outputs": [],
   "source": [
    "list_classes = os.listdir(uri_path)\n",
    "\n",
    "for classe in list_classes:\n",
    "    images = os.listdir(\"sementes/deep_learning/\"+classe)\n",
    "    print(classe)\n",
    "    for image in images:\n",
    "        im = Image.open(\"sementes/deep_learning/\"+classe+\"/\"+image)\n",
    "        rgb_im = im.convert('RGB')\n",
    "        rgb_im.save(\"sementes/deep_learning/\"+classe+\"/\"+image)\n",
    "        print(\".\", end=\"\")"
   ]
  },
  {
   "cell_type": "markdown",
   "metadata": {},
   "source": [
    "**Renomear as imagens**"
   ]
  },
  {
   "cell_type": "code",
   "execution_count": null,
   "metadata": {},
   "outputs": [],
   "source": [
    "list_classes = os.listdir(uri_to_path)\n",
    "for classe in list_classes:\n",
    "    list_sementes = os.listdir(uri_to_path+\"/\"+classe)\n",
    "    i = 0\n",
    "    print(\"\\n\"+classe)\n",
    "    for name in list_sementes:\n",
    "        \n",
    "        os.rename(uri_to_path+\"/\"+classe+\"/\"+name,uri_to_path+\"/\"+classe+\"/\"+classe+\"_\"+str(i)+\".jpeg\")\n",
    "        i = i+1\n",
    "        print(\".\",end=\"\")"
   ]
  },
  {
   "cell_type": "markdown",
   "metadata": {},
   "source": [
    "### Split Dataset"
   ]
  },
  {
   "cell_type": "code",
   "execution_count": 25,
   "metadata": {},
   "outputs": [],
   "source": [
    "to = \"C:/Users/JPIRES16/Documents/ThyroidData/cell_content_classifier/\"\n",
    "path = \"C:/Users/JPIRES16/Documents/ThyroidData/cell_content_classifier/non_cell_p_g\"\n",
    "files = os.listdir(path)\n",
    "\n",
    "indices = np.arange(0, len(files))\n",
    "np.random.shuffle(indices)\n",
    "np.random.shuffle(indices)\n",
    "np.random.shuffle(indices)\n",
    "\n",
    "#train\n",
    "for i in indices[0:int(0.7*len(indices))]:\n",
    "    os.rename(path+\"/\"+files[i],to+\"/train/non/\"+os.path.split(files[i])[1])\n",
    "\n",
    "#val\n",
    "for i in indices[int(0.7*len(indices)):]:\n",
    "    os.rename(path+\"/\"+files[i],to+\"/validation/non/\"+os.path.split(files[i])[1])\n"
   ]
  }
 ],
 "metadata": {
  "colab": {
   "collapsed_sections": [],
   "name": "GeraImagens.ipynb",
   "provenance": []
  },
  "kernelspec": {
   "display_name": "Python 3.7.0 64-bit (system)",
   "language": "python",
   "name": "python3"
  },
  "language_info": {
   "codemirror_mode": {
    "name": "ipython",
    "version": 3
   },
   "file_extension": ".py",
   "mimetype": "text/x-python",
   "name": "python",
   "nbconvert_exporter": "python",
   "pygments_lexer": "ipython3",
   "version": "3.7.0"
  },
  "vscode": {
   "interpreter": {
    "hash": "1f2ac25b4a6d870602abfa5d74e7d6f1ae274ba9e86645830384575c0e5c89f3"
   }
  }
 },
 "nbformat": 4,
 "nbformat_minor": 1
}
