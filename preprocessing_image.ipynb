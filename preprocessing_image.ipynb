{
 "cells": [
  {
   "cell_type": "code",
   "execution_count": 1,
   "metadata": {},
   "outputs": [],
   "source": [
    "import os\n",
    "from keras.preprocessing.image import ImageDataGenerator, load_img, img_to_array\n",
    "from threading import Thread\n",
    "from PIL import Image"
   ]
  },
  {
   "cell_type": "code",
   "execution_count": 2,
   "metadata": {},
   "outputs": [],
   "source": [
    "import numpy as np"
   ]
  },
  {
   "cell_type": "code",
   "execution_count": 3,
   "metadata": {},
   "outputs": [],
   "source": [
    "def create_path(uri):\n",
    "    if not os.path.isdir(uri):\n",
    "        uri_ = os.path.split(uri)[0]\n",
    "        create_path(uri_)\n",
    "\n",
    "        os.mkdir(uri)"
   ]
  },
  {
   "cell_type": "markdown",
   "metadata": {},
   "source": [
    "**Definição da classe pra gerar imagens com ImageDataGenerator**"
   ]
  },
  {
   "cell_type": "code",
   "execution_count": 4,
   "metadata": {
    "id": "2T2YTDxr2nWQ"
   },
   "outputs": [],
   "source": [
    "#Esta implementação gera novas imagens a partir das originais.\n",
    "class GenerateImage(Thread):\n",
    "    \n",
    "    def __init__ (self, path, to, qtd):\n",
    "        Thread.__init__(self)\n",
    "        self.path = path\n",
    "        self.to = to\n",
    "        self.qtd = qtd\n",
    "        \n",
    "    def run(self):\n",
    "        self.generate()\n",
    "        \n",
    "    def create_path(self,uri):\n",
    "        if not os.path.isdir(uri):\n",
    "            uri_ = os.path.split(uri)[0]\n",
    "            self.create_path(uri_)\n",
    "\n",
    "            os.mkdir(uri)\n",
    "            \n",
    "\n",
    "    def generate(self):\n",
    "        \n",
    "        self.create_path(self.to)\n",
    "        \n",
    "        names_images = os.listdir(self.path) #lista de nomes de arquivos que existem na pasta path\n",
    "        \n",
    "        #objeto de ImageDataGenerator, que gera imagens\n",
    "        datagenerator = ImageDataGenerator(\n",
    "            rotation_range = 90,\n",
    "            #width_shift_range=0.1,\n",
    "            #height_shift_range=0.1,\n",
    "            rescale=1./255,\n",
    "            #shear_range=0.2,\n",
    "            zoom_range=0.23,\n",
    "            horizontal_flip=True,\n",
    "            vertical_flip=True,\n",
    "            fill_mode='nearest'\n",
    "        )\n",
    "\n",
    "        #calculo da quantidade a ser repetida para cada imagem encontrada\n",
    "        #count = int(self.qtd/len(names_images))\n",
    "        #count = count if (count > 0) else 1\n",
    "        \n",
    "        print(\"\\n\\n\")\n",
    "        #criar imagens a partir da lista na pasta\n",
    "        for name_image in names_images:\n",
    "            \n",
    "            print(name_image, end=\"\\r\")\n",
    "            \n",
    "            if not os.path.isfile(self.path+\"/\"+name_image): #Se não for arquivo, pula esse\n",
    "                continue\n",
    "\n",
    "            image = load_img(self.path+\"/\"+name_image) # carrega a imagem\n",
    "            image_array = img_to_array(image)\n",
    "            image_array = image_array.reshape((1,)+image_array.shape) #redimensiona a imagem\n",
    "\n",
    "            i = 0\n",
    "            for batch in datagenerator.flow(image_array, batch_size=1, save_to_dir=self.to, save_prefix=\"g\", save_format='jpeg'):\n",
    "              \n",
    "              i = i+1\n",
    "              if (i >= self.qtd):\n",
    "                break\n"
   ]
  },
  {
   "cell_type": "markdown",
   "metadata": {},
   "source": [
    "**redimensionar as imagens para Uma resolução desejada**"
   ]
  },
  {
   "cell_type": "code",
   "execution_count": 2,
   "metadata": {},
   "outputs": [],
   "source": [
    "#redimensiona cada imagem da path para o tamanho correspondente\n",
    "class CropScalingImage(Thread):\n",
    "    \n",
    "    def __init__ (self, path, to_path, r, with_crop, with_resize):\n",
    "        Thread.__init__(self)\n",
    "        self.path = path\n",
    "        self.to_path = to_path\n",
    "        self.r = r\n",
    "        self.with_crop = with_crop\n",
    "        self.with_resize = with_resize\n",
    "        \n",
    "    def run(self):\n",
    "        self.scaling()\n",
    "        \n",
    "    def create_path(self,uri):\n",
    "        if not os.path.isdir(uri):\n",
    "            uri_ = os.path.split(uri)[0]\n",
    "            self.create_path(uri_)\n",
    "\n",
    "            os.mkdir(uri)\n",
    "        \n",
    "    def scaling(self):\n",
    "        \n",
    "        self.create_path(self.to_path)\n",
    "        \n",
    "        for name in os.listdir(self.path):\n",
    "            \n",
    "            img = Image.open(self.path+\"/\"+name)\n",
    "\n",
    "            #crop image\n",
    "            \n",
    "            w = img.size[0]\n",
    "            h = img.size[1]\n",
    "            \n",
    "            if self.with_crop:\n",
    "                if w > h:\n",
    "                    dw = (w-h)/2.0\n",
    "                    img = img.crop((dw,0,w-dw,h))\n",
    "                elif h > w:\n",
    "                    dh = (h-w)/2.0\n",
    "                    img = img.crop((0,dh,w,h-dh))\n",
    "                else:\n",
    "                    dw = (w-self.r)/2.0\n",
    "                    dh = (h-self.r)/2.0\n",
    "                    \n",
    "                    rr = (dw,dh,self.r+dw,self.r+dh)\n",
    "                    img = img.crop(rr)\n",
    "            \n",
    "            if self.with_resize:\n",
    "                #scale image\n",
    "                if w > h:\n",
    "                    img = img.resize((self.r,self.r), Image.ANTIALIAS)\n",
    "                else:\n",
    "                    img = img.resize((self.r,self.r), Image.ANTIALIAS)\n",
    "                    \n",
    "            if not os.path.isdir(self.to_path):\n",
    "                os.mkdir(self.to_path)\n",
    "                \n",
    "            img.save(self.to_path+\"/\"+name)\n",
    "            "
   ]
  },
  {
   "cell_type": "markdown",
   "metadata": {},
   "source": [
    "# Executar"
   ]
  },
  {
   "cell_type": "markdown",
   "metadata": {},
   "source": [
    "*Apague coloque o link da pasta que contém as imagens entre aspas*"
   ]
  },
  {
   "cell_type": "code",
   "execution_count": 5,
   "metadata": {},
   "outputs": [],
   "source": [
    "uri_path = \"C:/Users/Joelp/OneDrive/Imagens/tireoide/citologia\"\n",
    "uri_to_path = \"C:/Users/Joelp/OneDrive/Imagens/tireoide/generated\""
   ]
  },
  {
   "cell_type": "markdown",
   "metadata": {},
   "source": [
    "**Recorte e redimensionamento**"
   ]
  },
  {
   "cell_type": "code",
   "execution_count": 5,
   "metadata": {},
   "outputs": [],
   "source": [
    "import glob"
   ]
  },
  {
   "cell_type": "code",
   "execution_count": 19,
   "metadata": {},
   "outputs": [],
   "source": [
    "#recortar apenas um lado.\n",
    "for p in os.listdir(uri_path):\n",
    "    \n",
    "    for file in glob.glob(os.path.join(uri_path,p+\"/*.jpg\")):\n",
    "        \n",
    "        name = os.path.split(file)[1]\n",
    "        \n",
    "        image = Image.open(file)\n",
    "        w,h = image.size\n",
    "        image = image.crop((0,0,w-150,h))\n",
    "        \n",
    "        to = os.path.join(uri_to_path,p)\n",
    "        create_path(to)\n",
    "        image.save(os.path.join(to, name))\n",
    "        "
   ]
  },
  {
   "cell_type": "markdown",
   "metadata": {},
   "source": [
    "**Converter imagens png para jpg**"
   ]
  },
  {
   "cell_type": "code",
   "execution_count": 21,
   "metadata": {},
   "outputs": [],
   "source": [
    "def png_to_jpg(image_uri):\n",
    "        png = Image.open(image_uri)\n",
    "        png.load() # required for png.split()\n",
    "\n",
    "        background = Image.new(\"RGB\", png.size, (255, 255, 255))\n",
    "        background.paste(png, mask=png.split()[3]) # 3 is the alpha channel\n",
    "\n",
    "        base = os.path.split(image_uri)\n",
    "        name = base[1].replace(\".png\",\".jpg\")\n",
    "\n",
    "        background.save(base[0]+\"/\"+name, 'JPEG', quality=100)\n",
    "\n",
    "        os.remove(image_uri)"
   ]
  },
  {
   "cell_type": "code",
   "execution_count": 24,
   "metadata": {},
   "outputs": [],
   "source": [
    "for p in os.listdir(uri_to_path):\n",
    "    for image in glob.glob(uri_to_path+\"/\"+p+\"/*.png\"):\n",
    "        png_to_jpg(image)"
   ]
  },
  {
   "cell_type": "code",
   "execution_count": 9,
   "metadata": {},
   "outputs": [],
   "source": [
    "#recorte e redimensionamento\n",
    "#path, to_path, width, height, with_crop, with_resize\n",
    "for path in os.listdir(uri_to_path):\n",
    "    c_s1 = CropScalingImage(uri_to_path+\"/\"+path,uri_to_path+\"/\"+path, 528, True,True)\n",
    "    c_s1.start()"
   ]
  },
  {
   "cell_type": "code",
   "execution_count": null,
   "metadata": {},
   "outputs": [],
   "source": []
  },
  {
   "cell_type": "markdown",
   "metadata": {},
   "source": [
    "**Gerar imagens**"
   ]
  },
  {
   "cell_type": "markdown",
   "metadata": {},
   "source": [
    "*Executar uma das duas opões abaixo:*"
   ]
  },
  {
   "cell_type": "code",
   "execution_count": 6,
   "metadata": {},
   "outputs": [
    {
     "name": "stdout",
     "output_type": "stream",
     "text": [
      "\n",
      "\n",
      "\n",
      "Foto 24-05-2021 20 00 48.jpg\n",
      "\n",
      "\n",
      "Foto 24-05-2021 20 18 52.jpg\n",
      "\n",
      "\n",
      "img1.jpg\n",
      "\n",
      "\n",
      "img99.jpggimg317.jpg9 07.jpg 01 50.jpgimg271.jpg\r"
     ]
    }
   ],
   "source": [
    "uri_path = \"C:/Users/Joelp/OneDrive/Imagens/tireoide/citologia\"\n",
    "uri_to_path = \"C:/Users/Joelp/OneDrive/Imagens/tireoide/generated_cito\"\n",
    "\n",
    "for p in os.listdir(uri_path):\n",
    "\n",
    "    for classe in os.listdir(uri_path+\"/\"+p):\n",
    "        g = GenerateImage(uri_path+\"/\"+p+\"/\"+classe, uri_to_path+\"/\"+p+\"/\"+classe,20)\n",
    "        g.start()"
   ]
  },
  {
   "cell_type": "markdown",
   "metadata": {},
   "source": [
    "______________________________________________________________"
   ]
  },
  {
   "cell_type": "markdown",
   "metadata": {},
   "source": [
    "**Apagar imagens em excesso**"
   ]
  },
  {
   "cell_type": "code",
   "execution_count": null,
   "metadata": {},
   "outputs": [],
   "source": [
    "classes = os.listdir(uri_)\n",
    "\n",
    "for classe in classes:\n",
    "    q = len(os.listdir(\"C:/Users/Joelp/OneDrive/Imagens/sementes/preparadas/21-04-2021/gerada/\"+classe))\n",
    "    qtd = qtd+q\n",
    "    print(q)\n",
    "    \n",
    "print(\"Quantidade total:\")\n",
    "print(qtd)"
   ]
  },
  {
   "cell_type": "code",
   "execution_count": null,
   "metadata": {
    "scrolled": true
   },
   "outputs": [],
   "source": [
    "#\n",
    "i = 1\n",
    "images = os.listdir(\"imagens/sementes/deep_learning/milho\")\n",
    "for image in images:\n",
    "    os.remove(\"imagens/sementes/deep_learning/milho/\"+image)\n",
    "    print(\".\", end=\"\")\n",
    "    if i == 1316:\n",
    "        break\n",
    "    i = i+1"
   ]
  },
  {
   "cell_type": "markdown",
   "metadata": {},
   "source": [
    "**Converter imagens png para jpeg**"
   ]
  },
  {
   "cell_type": "code",
   "execution_count": null,
   "metadata": {},
   "outputs": [],
   "source": [
    "list_classes = os.listdir(uri_path)\n",
    "\n",
    "for classe in list_classes:\n",
    "    images = os.listdir(\"sementes/deep_learning/\"+classe)\n",
    "    print(classe)\n",
    "    for image in images:\n",
    "        im = Image.open(\"sementes/deep_learning/\"+classe+\"/\"+image)\n",
    "        rgb_im = im.convert('RGB')\n",
    "        rgb_im.save(\"sementes/deep_learning/\"+classe+\"/\"+image)\n",
    "        print(\".\", end=\"\")"
   ]
  },
  {
   "cell_type": "markdown",
   "metadata": {},
   "source": [
    "**Renomear as imagens**"
   ]
  },
  {
   "cell_type": "code",
   "execution_count": null,
   "metadata": {},
   "outputs": [],
   "source": [
    "list_classes = os.listdir(uri_to_path)\n",
    "for classe in list_classes:\n",
    "    list_sementes = os.listdir(uri_to_path+\"/\"+classe)\n",
    "    i = 0\n",
    "    print(\"\\n\"+classe)\n",
    "    for name in list_sementes:\n",
    "        \n",
    "        os.rename(uri_to_path+\"/\"+classe+\"/\"+name,uri_to_path+\"/\"+classe+\"/\"+classe+\"_\"+str(i)+\".jpeg\")\n",
    "        i = i+1\n",
    "        print(\".\",end=\"\")"
   ]
  },
  {
   "cell_type": "code",
   "execution_count": null,
   "metadata": {},
   "outputs": [],
   "source": []
  }
 ],
 "metadata": {
  "colab": {
   "collapsed_sections": [],
   "name": "GeraImagens.ipynb",
   "provenance": []
  },
  "kernelspec": {
   "display_name": "Python 3 (ipykernel)",
   "language": "python",
   "name": "python3"
  },
  "language_info": {
   "codemirror_mode": {
    "name": "ipython",
    "version": 3
   },
   "file_extension": ".py",
   "mimetype": "text/x-python",
   "name": "python",
   "nbconvert_exporter": "python",
   "pygments_lexer": "ipython3",
   "version": "3.7.0"
  }
 },
 "nbformat": 4,
 "nbformat_minor": 1
}
